{
  "nbformat": 4,
  "nbformat_minor": 0,
  "metadata": {
    "colab": {
      "provenance": [],
      "authorship_tag": "ABX9TyNeVvMjNkmxr5tOOwMTkhiR",
      "include_colab_link": true
    },
    "kernelspec": {
      "name": "python3",
      "display_name": "Python 3"
    },
    "language_info": {
      "name": "python"
    }
  },
  "cells": [
    {
      "cell_type": "markdown",
      "metadata": {
        "id": "view-in-github",
        "colab_type": "text"
      },
      "source": [
        "<a href=\"https://colab.research.google.com/github/Geetika-Behl/Python-/blob/main/Day2.ipynb\" target=\"_parent\"><img src=\"https://colab.research.google.com/assets/colab-badge.svg\" alt=\"Open In Colab\"/></a>"
      ]
    },
    {
      "cell_type": "markdown",
      "source": [
        "There are four collection data types in the Python programming language:\n",
        "\n",
        "List is a collection which is ordered and changeable. Allows duplicate members.\n",
        "\n",
        "Tuple is a collection which is ordered and unchangeable. Allows duplicate members.\n",
        "\n",
        "Set is a collection which is unordered, unchangeable, and unindexed. No duplicate members.\n",
        "\n",
        "Dictionary is a collection which is ordered and changeable. No duplicate members."
      ],
      "metadata": {
        "id": "0FwGXBvKys_Y"
      }
    },
    {
      "cell_type": "code",
      "execution_count": 9,
      "metadata": {
        "colab": {
          "base_uri": "https://localhost:8080/"
        },
        "id": "IxL6xrKSyJw-",
        "outputId": "b3198305-e647-4d52-82f9-bb80dc3dcf20"
      },
      "outputs": [
        {
          "output_type": "stream",
          "name": "stdout",
          "text": [
            "['apple', 'mango', 'litchi', 'banana']\n",
            "4\n",
            "<class 'list'>\n",
            "mango\n",
            "banana\n",
            "['mango', 'litchi']\n",
            "['apple', 'litchi', 'banana']\n"
          ]
        }
      ],
      "source": [
        "#List\n",
        "Fruits = [\"apple\",\"mango\",\"litchi\",\"banana\"]\n",
        "print(Fruits)\n",
        "print(len(Fruits))\n",
        "print(type(Fruits))\n",
        "print(Fruits[1])\n",
        "print(Fruits[-1])\n",
        "print(Fruits[1:3])\n",
        "Fruits.remove(\"mango\")\n",
        "print(Fruits)"
      ]
    },
    {
      "cell_type": "code",
      "source": [
        "#Tuple\n",
        "vegetable = ('onion','potato','carrot')\n",
        "print(vegetable)\n",
        "print(type(vegetable))\n",
        "print(len(vegetable))\n",
        "print(vegetable[1])\n",
        "print(vegetable[-1])\n",
        "print(vegetable[1:3])\n",
        "\n",
        "y = ('beans',)\n",
        "vegetable += y #Note: remember to include a comma after the item, otherwise it will not be identified as a tuple.\n",
        "print(vegetable)\n",
        "\n",
        "x = vegetable.count('onion')\n",
        "print(x)\n",
        "\n",
        "z = vegetable.index('onion')\n",
        "print(z)\n"
      ],
      "metadata": {
        "colab": {
          "base_uri": "https://localhost:8080/"
        },
        "id": "1yTKaCECy95-",
        "outputId": "a9aa0252-bbd2-4ca5-cb51-b83c0ba7e661"
      },
      "execution_count": 20,
      "outputs": [
        {
          "output_type": "stream",
          "name": "stdout",
          "text": [
            "('onion', 'potato', 'carrot')\n",
            "<class 'tuple'>\n",
            "3\n",
            "potato\n",
            "carrot\n",
            "('potato', 'carrot')\n",
            "('onion', 'potato', 'carrot', 'beans')\n",
            "1\n",
            "0\n"
          ]
        }
      ]
    },
    {
      "cell_type": "code",
      "source": [
        "#Dictionary\n",
        "Car = {\n",
        "  \"brand\": \"Ford\",\n",
        "  \"model\": \"Mustang\",\n",
        "  \"year\": 2000\n",
        "}\n",
        "print(Car)\n",
        "x = Car.get(\"model\")\n",
        "print(x)\n",
        "Car.update({\"year\": 2020})\n",
        "print(Car)\n",
        "Car[\"color\"] = \"black\"\n",
        "print(Car)\n",
        "Car.popitem()\n",
        "print(Car)"
      ],
      "metadata": {
        "colab": {
          "base_uri": "https://localhost:8080/"
        },
        "id": "JCCP9ZZZ6gBS",
        "outputId": "5a14c4fd-48e5-4196-e1fc-ba6cea6cf829"
      },
      "execution_count": 28,
      "outputs": [
        {
          "output_type": "stream",
          "name": "stdout",
          "text": [
            "{'brand': 'Ford', 'model': 'Mustang', 'year': 2000}\n",
            "Mustang\n",
            "{'brand': 'Ford', 'model': 'Mustang', 'year': 2020}\n",
            "{'brand': 'Ford', 'model': 'Mustang', 'year': 2020, 'color': 'black'}\n",
            "{'brand': 'Ford', 'model': 'Mustang', 'year': 2020}\n"
          ]
        }
      ]
    },
    {
      "cell_type": "code",
      "source": [
        "#Set\n",
        "#Note: Set items are unchangeable, but you can remove items and add new items.\n",
        "set = {\"ram\", \"shyam\", \"rohan\", \"arun\"}\n",
        "print(set)\n",
        "set.add('raju')\n",
        "print(set)\n",
        "set.remove('shyam')\n",
        "print(set)\n",
        "set2 = {1, 2, 3}\n",
        "set3 = set.union(set2)\n",
        "print(set3)\n",
        "set3 = set | set2 #another method for union\n",
        "print(set3)"
      ],
      "metadata": {
        "colab": {
          "base_uri": "https://localhost:8080/"
        },
        "id": "979K1C-t7r8V",
        "outputId": "d442d342-af37-418c-b7d6-1a29f7bf0c83"
      },
      "execution_count": 33,
      "outputs": [
        {
          "output_type": "stream",
          "name": "stdout",
          "text": [
            "{'arun', 'ram', 'rohan', 'shyam'}\n",
            "{'ram', 'rohan', 'shyam', 'arun', 'raju'}\n",
            "{'ram', 'rohan', 'arun', 'raju'}\n",
            "{'ram', 1, 2, 3, 'raju', 'arun', 'rohan'}\n",
            "{'ram', 1, 2, 3, 'raju', 'arun', 'rohan'}\n"
          ]
        }
      ]
    },
    {
      "cell_type": "code",
      "source": [
        "#Break\n",
        "# break statement stop the loop before it has looped through all the items\n",
        "fruits = [\"apple\", \"banana\", \"cherry\"]\n",
        "for x in fruits:\n",
        "  if x == \"banana\":\n",
        "    break\n",
        "  print(x)"
      ],
      "metadata": {
        "colab": {
          "base_uri": "https://localhost:8080/"
        },
        "id": "rEELU312-Mel",
        "outputId": "a6a5a3f2-ae17-4d18-8a5e-030ddecaa134"
      },
      "execution_count": 34,
      "outputs": [
        {
          "output_type": "stream",
          "name": "stdout",
          "text": [
            "apple\n"
          ]
        }
      ]
    },
    {
      "cell_type": "code",
      "source": [
        "#Continue\n",
        "#continue statement stop the current iteration of the loop, and continue with the next\n",
        "fruits = [\"apple\", \"banana\", \"cherry\"]\n",
        "for x in fruits:\n",
        "  if x == \"banana\":\n",
        "    continue\n",
        "  print(x)"
      ],
      "metadata": {
        "colab": {
          "base_uri": "https://localhost:8080/"
        },
        "id": "joZwayIn-b4i",
        "outputId": "8fe8bc51-e874-4a53-efe7-cf8dd3bd4e3f"
      },
      "execution_count": 35,
      "outputs": [
        {
          "output_type": "stream",
          "name": "stdout",
          "text": [
            "apple\n",
            "cherry\n"
          ]
        }
      ]
    },
    {
      "cell_type": "markdown",
      "source": [
        "Pass\n",
        "\n",
        "The pass statement in Python is used when a statement is required syntactically but you do not want any command or code to execute."
      ],
      "metadata": {
        "id": "G3WInKNC-5yT"
      }
    },
    {
      "cell_type": "code",
      "source": [
        "s = \"geeks\"\n",
        "# Empty loop\n",
        "for i in s:\n",
        "    # No error will be raised\n",
        "    pass\n",
        "print(s)"
      ],
      "metadata": {
        "colab": {
          "base_uri": "https://localhost:8080/"
        },
        "id": "XLhQYBqJ-8a-",
        "outputId": "8cae37a5-3054-4195-b888-dd70cedce249"
      },
      "execution_count": 36,
      "outputs": [
        {
          "output_type": "stream",
          "name": "stdout",
          "text": [
            "geeks\n"
          ]
        }
      ]
    }
  ]
}