{
  "nbformat": 4,
  "nbformat_minor": 0,
  "metadata": {
    "colab": {
      "provenance": [],
      "authorship_tag": "ABX9TyNfYDa71OVqnqwyn08PhyX9",
      "include_colab_link": true
    },
    "kernelspec": {
      "name": "python3",
      "display_name": "Python 3"
    },
    "language_info": {
      "name": "python"
    }
  },
  "cells": [
    {
      "cell_type": "markdown",
      "metadata": {
        "id": "view-in-github",
        "colab_type": "text"
      },
      "source": [
        "<a href=\"https://colab.research.google.com/github/Geetika-Behl/Python-/blob/main/Day3_Function.ipynb\" target=\"_parent\"><img src=\"https://colab.research.google.com/assets/colab-badge.svg\" alt=\"Open In Colab\"/></a>"
      ]
    },
    {
      "cell_type": "code",
      "execution_count": 1,
      "metadata": {
        "id": "RjBbEhikAz-c",
        "colab": {
          "base_uri": "https://localhost:8080/"
        },
        "outputId": "c2f0083f-1f2d-476f-c537-1a338f339c0d"
      },
      "outputs": [
        {
          "output_type": "stream",
          "name": "stdout",
          "text": [
            "7\n"
          ]
        }
      ],
      "source": [
        "#Function\n",
        "def sum(a,b):\n",
        "  sum = a+b\n",
        "\n",
        "sum = 2+5\n",
        "print(sum)"
      ]
    },
    {
      "cell_type": "code",
      "source": [
        "#keyword argument(KWARGS)\n",
        "def family(child3, child2, child1):\n",
        "  print(\"The youngest child is \" + child3)\n",
        "\n",
        "family(child1 = \"arun\", child2 = \"rahul\", child3 = \"reena\")"
      ],
      "metadata": {
        "colab": {
          "base_uri": "https://localhost:8080/"
        },
        "id": "5giAZiIvRvI5",
        "outputId": "c01e8209-6088-4aa1-a144-3d4c2a422608"
      },
      "execution_count": 5,
      "outputs": [
        {
          "output_type": "stream",
          "name": "stdout",
          "text": [
            "The youngest child is reena\n"
          ]
        }
      ]
    },
    {
      "cell_type": "code",
      "source": [
        "#arbitrary Kword Arguments are often shortened to **kwargs in Python documentations.\n",
        "def family(**kid):\n",
        "  print(\"His last name is \" + kid[\"lname\"])\n",
        "\n",
        "family(fname = \"Tarun\", lname = \"Gupta\")"
      ],
      "metadata": {
        "colab": {
          "base_uri": "https://localhost:8080/"
        },
        "id": "36xO_5BZR-HH",
        "outputId": "09991d28-ca16-4a10-f2af-79366bcd8597"
      },
      "execution_count": 6,
      "outputs": [
        {
          "output_type": "stream",
          "name": "stdout",
          "text": [
            "His last name is Gupta\n"
          ]
        }
      ]
    },
    {
      "cell_type": "code",
      "source": [
        "#Arbitrary Argument\n",
        "#If you do not know how many arguments that will be passed into your function, add a * before the parameter name in the function definition.\n",
        "def family(*kids):\n",
        "  print(\"The youngest child is \" + kids[2])\n",
        "\n",
        "family(\"Arun\", \"Tarun\", \"Lina\")"
      ],
      "metadata": {
        "colab": {
          "base_uri": "https://localhost:8080/"
        },
        "id": "uPmNZF3yShqY",
        "outputId": "fd272e63-7321-4e97-92b7-f5e2131692fe"
      },
      "execution_count": 10,
      "outputs": [
        {
          "output_type": "stream",
          "name": "stdout",
          "text": [
            "The youngest child is Lina\n"
          ]
        }
      ]
    }
  ]
}