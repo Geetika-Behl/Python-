{
  "nbformat": 4,
  "nbformat_minor": 0,
  "metadata": {
    "colab": {
      "provenance": [],
      "authorship_tag": "ABX9TyMQ3oTN4EalVIl0wgONXdPQ",
      "include_colab_link": true
    },
    "kernelspec": {
      "name": "python3",
      "display_name": "Python 3"
    },
    "language_info": {
      "name": "python"
    }
  },
  "cells": [
    {
      "cell_type": "markdown",
      "metadata": {
        "id": "view-in-github",
        "colab_type": "text"
      },
      "source": [
        "<a href=\"https://colab.research.google.com/github/Geetika-Behl/Python-/blob/main/Day3_Function.ipynb\" target=\"_parent\"><img src=\"https://colab.research.google.com/assets/colab-badge.svg\" alt=\"Open In Colab\"/></a>"
      ]
    },
    {
      "cell_type": "code",
      "execution_count": 1,
      "metadata": {
        "id": "RjBbEhikAz-c",
        "colab": {
          "base_uri": "https://localhost:8080/"
        },
        "outputId": "c2f0083f-1f2d-476f-c537-1a338f339c0d"
      },
      "outputs": [
        {
          "output_type": "stream",
          "name": "stdout",
          "text": [
            "7\n"
          ]
        }
      ],
      "source": [
        "#Function\n",
        "def sum(a,b):\n",
        "  sum = a+b\n",
        "\n",
        "sum = 2+5\n",
        "print(sum)"
      ]
    },
    {
      "cell_type": "code",
      "source": [
        "#keyword argument(KWARGS)\n",
        "def family(child3, child2, child1):\n",
        "  print(\"The youngest child is \" + child3)\n",
        "\n",
        "family(child1 = \"arun\", child2 = \"rahul\", child3 = \"reena\")"
      ],
      "metadata": {
        "colab": {
          "base_uri": "https://localhost:8080/"
        },
        "id": "5giAZiIvRvI5",
        "outputId": "c01e8209-6088-4aa1-a144-3d4c2a422608"
      },
      "execution_count": 5,
      "outputs": [
        {
          "output_type": "stream",
          "name": "stdout",
          "text": [
            "The youngest child is reena\n"
          ]
        }
      ]
    },
    {
      "cell_type": "code",
      "source": [
        "#arbitrary Kword Arguments are often shortened to **kwargs in Python documentations. key and value usage\n",
        "def family(**kid):\n",
        "  print(\"His last name is \" + kid[\"lname\"])\n",
        "\n",
        "family(fname = \"Tarun\", lname = \"Gupta\")"
      ],
      "metadata": {
        "colab": {
          "base_uri": "https://localhost:8080/"
        },
        "id": "36xO_5BZR-HH",
        "outputId": "09991d28-ca16-4a10-f2af-79366bcd8597"
      },
      "execution_count": 6,
      "outputs": [
        {
          "output_type": "stream",
          "name": "stdout",
          "text": [
            "His last name is Gupta\n"
          ]
        }
      ]
    },
    {
      "cell_type": "code",
      "source": [
        "#Arbitrary Argument\n",
        "#If you do not know how many arguments that will be passed into your function, add a * before the parameter name in the function definition.\n",
        "def family(*kids):\n",
        "  print(\"The youngest child is \" + kids[2])\n",
        "\n",
        "family(\"Arun\", \"Tarun\", \"Lina\")"
      ],
      "metadata": {
        "colab": {
          "base_uri": "https://localhost:8080/"
        },
        "id": "uPmNZF3yShqY",
        "outputId": "fd272e63-7321-4e97-92b7-f5e2131692fe"
      },
      "execution_count": 10,
      "outputs": [
        {
          "output_type": "stream",
          "name": "stdout",
          "text": [
            "The youngest child is Lina\n"
          ]
        }
      ]
    },
    {
      "cell_type": "code",
      "source": [
        "#Recursion\n",
        "#It means that a function calls itself. This has the benefit of meaning that you can loop through data to reach a result.\n",
        "def recursion(k):\n",
        "  if(k > 0):\n",
        "    result = k + recursion(k - 1)\n",
        "    print(result)\n",
        "  else:\n",
        "    result = 0\n",
        "  return result\n",
        "\n",
        "print(\"Recursion Results\")\n",
        "recursion(6)"
      ],
      "metadata": {
        "colab": {
          "base_uri": "https://localhost:8080/"
        },
        "id": "b_T9uOVOX7fm",
        "outputId": "d4a06716-08f4-44b5-9703-8431970760a3"
      },
      "execution_count": 15,
      "outputs": [
        {
          "output_type": "stream",
          "name": "stdout",
          "text": [
            "Recursion Results\n",
            "1\n",
            "3\n",
            "6\n",
            "10\n",
            "15\n",
            "21\n"
          ]
        },
        {
          "output_type": "execute_result",
          "data": {
            "text/plain": [
              "21"
            ]
          },
          "metadata": {},
          "execution_count": 15
        }
      ]
    },
    {
      "cell_type": "markdown",
      "source": [
        "Lambda\n",
        "\n",
        "A lambda function can take any number of arguments, but can only have one expression.\n",
        "\n",
        "def keyword is used to define the normal functions and the lambda keyword is used to create anonymous functions."
      ],
      "metadata": {
        "id": "_NtioEYRtAe2"
      }
    },
    {
      "cell_type": "code",
      "source": [
        "def myfunc(n):\n",
        "  return lambda a : a * n\n",
        "\n",
        "\n",
        "mydoubler = myfunc(2)\n",
        "mytripler = myfunc(3)\n",
        "\n",
        "print(mydoubler(11))\n",
        "print(mytripler(11))"
      ],
      "metadata": {
        "colab": {
          "base_uri": "https://localhost:8080/"
        },
        "id": "vsODRXqTs9SA",
        "outputId": "c97122ec-5ead-4653-e2fd-17b8d8793a3d"
      },
      "execution_count": 16,
      "outputs": [
        {
          "output_type": "stream",
          "name": "stdout",
          "text": [
            "22\n",
            "33\n"
          ]
        }
      ]
    },
    {
      "cell_type": "code",
      "source": [
        "list1 = [1, 2, 3, 4, 5]\n",
        "\n",
        "# Use lambda to filter out even numbers from the list\n",
        "list2 = list(filter(lambda x: x % 2 != 0, list1))\n",
        "# Print the new list\n",
        "print(list2)\n"
      ],
      "metadata": {
        "colab": {
          "base_uri": "https://localhost:8080/"
        },
        "id": "MaS4Z2iPt4Kl",
        "outputId": "73b33a6b-4187-4ad9-be13-5f589b4799f5"
      },
      "execution_count": 17,
      "outputs": [
        {
          "output_type": "stream",
          "name": "stdout",
          "text": [
            "[1, 3, 5]\n"
          ]
        }
      ]
    }
  ]
}