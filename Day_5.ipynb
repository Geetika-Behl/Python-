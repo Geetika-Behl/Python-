{
  "nbformat": 4,
  "nbformat_minor": 0,
  "metadata": {
    "colab": {
      "provenance": [],
      "authorship_tag": "ABX9TyPGBnOcuvbXuwuWHYcWSOAI",
      "include_colab_link": true
    },
    "kernelspec": {
      "name": "python3",
      "display_name": "Python 3"
    },
    "language_info": {
      "name": "python"
    }
  },
  "cells": [
    {
      "cell_type": "markdown",
      "metadata": {
        "id": "view-in-github",
        "colab_type": "text"
      },
      "source": [
        "<a href=\"https://colab.research.google.com/github/Geetika-Behl/Python-/blob/main/Day_5.ipynb\" target=\"_parent\"><img src=\"https://colab.research.google.com/assets/colab-badge.svg\" alt=\"Open In Colab\"/></a>"
      ]
    },
    {
      "cell_type": "markdown",
      "source": [
        "# Inheritance\n",
        "Inheritance allows us to define a class that inherits all the methods and properties from another class.\n",
        "\n",
        "Parent class is the class being inherited from, also called base class.\n",
        "\n",
        "Child class is the class that inherits from another class, also called derived class."
      ],
      "metadata": {
        "id": "Xb8Sl3oC23xz"
      }
    },
    {
      "cell_type": "code",
      "execution_count": null,
      "metadata": {
        "colab": {
          "base_uri": "https://localhost:8080/"
        },
        "id": "AZW7fVOx20sx",
        "outputId": "c2e888c9-0d1a-4174-81c1-465efb5ca1b0"
      },
      "outputs": [
        {
          "output_type": "stream",
          "name": "stdout",
          "text": [
            "John Demen\n"
          ]
        }
      ],
      "source": [
        "class Person:\n",
        "  def __init__(self, fname, lname):\n",
        "    self.firstname = fname\n",
        "    self.lastname = lname\n",
        "\n",
        "  def printname(self):\n",
        "    print(self.firstname, self.lastname)\n",
        "\n",
        "#Use the Person class to create an object, and then execute the printname method:\n",
        "\n",
        "x = Person(\"John\", \"Demen\")\n",
        "x.printname()"
      ]
    },
    {
      "cell_type": "markdown",
      "source": [
        "The __init__() function is called automatically every time the class is being used to create a new object."
      ],
      "metadata": {
        "id": "noEmfqhq6UVA"
      }
    },
    {
      "cell_type": "code",
      "source": [
        "class Student(Person):\n",
        "  def __init__(self, fname, lname):\n",
        "    super().__init__(fname, lname)\n",
        "    self.graduationyear = 2019\n",
        "\n",
        "x = Student(\"Mridul\", \"Gupta\")\n",
        "print(x.graduationyear)"
      ],
      "metadata": {
        "colab": {
          "base_uri": "https://localhost:8080/"
        },
        "id": "N3EjxXPqAq92",
        "outputId": "9d240206-dc93-4334-8c37-ffb07e07fd80"
      },
      "execution_count": null,
      "outputs": [
        {
          "output_type": "stream",
          "name": "stdout",
          "text": [
            "2019\n"
          ]
        }
      ]
    },
    {
      "cell_type": "markdown",
      "source": [
        "Python also has a super() function that will make the child class inherit all the methods and properties from its parent"
      ],
      "metadata": {
        "id": "TPtKB39SA7LX"
      }
    },
    {
      "cell_type": "code",
      "source": [
        "class Person:\n",
        "  def __init__(self, fname, lname):\n",
        "    self.firstname = fname\n",
        "    self.lastname = lname\n",
        "\n",
        "  def printname(self):\n",
        "    print(self.firstname, self.lastname)\n",
        "\n",
        "class Student(Person):\n",
        "  def __init__(self, fname, lname):\n",
        "    super().__init__(fname, lname)\n",
        "\n",
        "x = Student(\"Mridul\", \"Gupta\")\n",
        "x.printname()\n"
      ],
      "metadata": {
        "colab": {
          "base_uri": "https://localhost:8080/"
        },
        "id": "_lr7niWvA6cT",
        "outputId": "1f04168e-ac1c-4e1d-d06a-38133a5ebb59"
      },
      "execution_count": null,
      "outputs": [
        {
          "output_type": "stream",
          "name": "stdout",
          "text": [
            "Mridul Gupta\n"
          ]
        }
      ]
    },
    {
      "cell_type": "code",
      "source": [
        "class Student(Person):\n",
        "  def __init__(self, fname, lname, year):\n",
        "    super().__init__(fname, lname)\n",
        "    self.graduationyear = year\n",
        "\n",
        "  def welcome(self):\n",
        "    print(\"Welcome\", self.firstname, self.lastname, \"to the class of\", self.graduationyear)\n",
        "\n",
        "x = Student(\"Mridul\", \"Gupta\", 2019)\n",
        "x.welcome()"
      ],
      "metadata": {
        "colab": {
          "base_uri": "https://localhost:8080/"
        },
        "id": "Ll1nQAjRBame",
        "outputId": "2f86ebdf-f970-493e-d9b1-a784b04edc8e"
      },
      "execution_count": null,
      "outputs": [
        {
          "output_type": "stream",
          "name": "stdout",
          "text": [
            "Welcome Mridul Gupta to the class of 2019\n"
          ]
        }
      ]
    },
    {
      "cell_type": "markdown",
      "source": [
        "\n",
        "# File Handling\n",
        "The open() function takes two parameters; filename, and mode.\n",
        "\"r\" - Read - Default value. Opens a file for reading, error if the file does not exist\n",
        "\n",
        "\"a\" - Append - Opens a file for appending, creates the file if it does not exist\n",
        "\n",
        "\"w\" - Write - Opens a file for writing, creates the file if it does not exist\n",
        "\n",
        "\"x\" - Create - Creates the specified file, returns an error if the file exists\n",
        "\n",
        "\"t\" - Text - Default value. Text mode\n",
        "\n",
        "\"b\" - Binary - Binary mode (e.g. images)"
      ],
      "metadata": {
        "id": "Pgg_bDSzIHdJ"
      }
    },
    {
      "cell_type": "code",
      "source": [
        "f = open(\"python blog.txt\", \"r\")\n",
        "print(f.read())"
      ],
      "metadata": {
        "colab": {
          "base_uri": "https://localhost:8080/"
        },
        "id": "ghg01UUKI9Tw",
        "outputId": "adb387e2-d0f5-42e0-e51f-23b2307a5737"
      },
      "execution_count": null,
      "outputs": [
        {
          "output_type": "stream",
          "name": "stdout",
          "text": [
            "- \"Mindful Coding: Using Python to Cultivate Balance and Well-being\"\n",
            "- \"From Pixels to Code: Unleashing Artistic Expression with Python\"\n",
            "- \"Stress Relief 101: Tapping into the Therapeutic Potential of Python Programming\"\n",
            "- \"Collaborative Coding: A Potluck of Ideas and Learning with Python\"\n",
            "- \"Nature's Influence: Drawing Inspiration from the Outdoors for Python Programming\"\n"
          ]
        }
      ]
    },
    {
      "cell_type": "code",
      "source": [
        "f = open(\"python blog.txt\", \"r\")\n",
        "print(f.read(5))"
      ],
      "metadata": {
        "colab": {
          "base_uri": "https://localhost:8080/"
        },
        "id": "v3DKynfkKXPV",
        "outputId": "a3020152-f995-49f9-eda7-cf97e3031d21"
      },
      "execution_count": null,
      "outputs": [
        {
          "output_type": "stream",
          "name": "stdout",
          "text": [
            "- \"Mi\n"
          ]
        }
      ]
    },
    {
      "cell_type": "code",
      "source": [
        "#By looping through the lines of the file, you can read the whole file, line by line:\n",
        "f = open(\"python blog.txt\", \"r\")\n",
        "for x in f:\n",
        "  print(x)"
      ],
      "metadata": {
        "colab": {
          "base_uri": "https://localhost:8080/"
        },
        "id": "NhcTjSEDKndD",
        "outputId": "18ec4406-f6cb-41ad-92dc-44aaa70f576a"
      },
      "execution_count": null,
      "outputs": [
        {
          "output_type": "stream",
          "name": "stdout",
          "text": [
            "- \"Mindful Coding: Using Python to Cultivate Balance and Well-being\"\n",
            "\n",
            "- \"From Pixels to Code: Unleashing Artistic Expression with Python\"\n",
            "\n",
            "- \"Stress Relief 101: Tapping into the Therapeutic Potential of Python Programming\"\n",
            "\n",
            "- \"Collaborative Coding: A Potluck of Ideas and Learning with Python\"\n",
            "\n",
            "- \"Nature's Influence: Drawing Inspiration from the Outdoors for Python Programming\"\n"
          ]
        }
      ]
    },
    {
      "cell_type": "code",
      "source": [
        "# Closing file\n",
        "f = open(\"python blog.txt\", \"r\")\n",
        "print(f.read())\n",
        "f.close()"
      ],
      "metadata": {
        "colab": {
          "base_uri": "https://localhost:8080/"
        },
        "id": "jLEaCKpnKq9E",
        "outputId": "c67ad09b-0616-403a-8784-cbaa53b8b533"
      },
      "execution_count": null,
      "outputs": [
        {
          "output_type": "stream",
          "name": "stdout",
          "text": [
            "- \"Mindful Coding: Using Python to Cultivate Balance and Well-being\"\n",
            "- \"From Pixels to Code: Unleashing Artistic Expression with Python\"\n",
            "- \"Stress Relief 101: Tapping into the Therapeutic Potential of Python Programming\"\n",
            "- \"Collaborative Coding: A Potluck of Ideas and Learning with Python\"\n",
            "- \"Nature's Influence: Drawing Inspiration from the Outdoors for Python Programming\"\n"
          ]
        }
      ]
    },
    {
      "cell_type": "markdown",
      "source": [
        "# Write to an Existing File\n",
        "To write to an existing file, you must add a parameter to the open() function:\n",
        "\n",
        "\"a\" - Append - will append to the end of the file\n",
        "\n",
        "\"w\" - Write - will overwrite any existing content"
      ],
      "metadata": {
        "id": "nAO-YvlfNdkv"
      }
    },
    {
      "cell_type": "code",
      "source": [
        "f = open(\"python blog.txt\", \"a\")\n",
        "f.write(\"\\n \\n Now the file has more content!\")\n",
        "f.close()\n",
        "\n",
        "#open and read the file after the appending:\n",
        "f = open(\"python blog.txt\", \"r\")\n",
        "print(f.read())"
      ],
      "metadata": {
        "colab": {
          "base_uri": "https://localhost:8080/"
        },
        "id": "FaL-mYf8NguG",
        "outputId": "6f8531a3-6f91-4bf5-bab2-d5ee63bf8f56"
      },
      "execution_count": null,
      "outputs": [
        {
          "output_type": "stream",
          "name": "stdout",
          "text": [
            "- \"Mindful Coding: Using Python to Cultivate Balance and Well-being\"\n",
            "- \"From Pixels to Code: Unleashing Artistic Expression with Python\"\n",
            "- \"Stress Relief 101: Tapping into the Therapeutic Potential of Python Programming\"\n",
            "- \"Collaborative Coding: A Potluck of Ideas and Learning with Python\"\n",
            "- \"Nature's Influence: Drawing Inspiration from the Outdoors for Python Programming\"Now the file has more content!\n",
            " Now the file has more content!\n",
            " \n",
            " Now the file has more content!\n"
          ]
        }
      ]
    },
    {
      "cell_type": "code",
      "source": [
        "f = open(\"python blog.txt\", \"w\")\n",
        "f.write(\"Woops! I have deleted the content!\")\n",
        "f.close()\n",
        "\n",
        "#open and read the file after the overwriting:\n",
        "f = open(\"python blog.txt\", \"r\")\n",
        "print(f.read())"
      ],
      "metadata": {
        "colab": {
          "base_uri": "https://localhost:8080/"
        },
        "id": "iWZu659SN1oL",
        "outputId": "ceeb1a5f-6e63-42de-be52-17ee4ea32a58"
      },
      "execution_count": null,
      "outputs": [
        {
          "output_type": "stream",
          "name": "stdout",
          "text": [
            "Woops! I have deleted the content!\n"
          ]
        }
      ]
    },
    {
      "cell_type": "markdown",
      "source": [
        "# Create a New File\n",
        "To create a new file in Python, use the open() method, with one of the following parameters:\n",
        "\n",
        "\"x\" - Create - will create a file, returns an error if the file exist\n",
        "\n",
        "\"a\" - Append - will create a file if the specified file does not exist\n",
        "\n",
        "\"w\" - Write - will create a file if the specified file does not exist"
      ],
      "metadata": {
        "id": "Z7gYAXPtOG1G"
      }
    },
    {
      "cell_type": "code",
      "source": [
        "f = open(\"myfile.txt\", \"x\")"
      ],
      "metadata": {
        "id": "Qty6warPOMXl"
      },
      "execution_count": null,
      "outputs": []
    },
    {
      "cell_type": "code",
      "source": [
        "f = open(\"myfile.txt\", \"w\")"
      ],
      "metadata": {
        "id": "A8kiu2fNOTUY"
      },
      "execution_count": null,
      "outputs": []
    },
    {
      "cell_type": "markdown",
      "source": [
        "# Delete a File\n",
        "To delete a file, you must import the OS module, and run its os.remove() function:"
      ],
      "metadata": {
        "id": "sTYeP3oSOY_z"
      }
    },
    {
      "cell_type": "code",
      "source": [
        "import os\n",
        "os.remove(\"myfile.txt\")"
      ],
      "metadata": {
        "id": "8xQJ13iuObmT"
      },
      "execution_count": null,
      "outputs": []
    },
    {
      "cell_type": "markdown",
      "source": [
        "Check if File exist:\n",
        "To avoid getting an error, you might want to check if the file exists before you try to delete it"
      ],
      "metadata": {
        "id": "FskTHwlSOmVL"
      }
    },
    {
      "cell_type": "code",
      "source": [
        "import os\n",
        "if os.path.exists(\"myfile.txt\"):\n",
        "  os.remove(\"myfile.txt\")\n",
        "else:\n",
        "  print(\"The file does not exist\")"
      ],
      "metadata": {
        "colab": {
          "base_uri": "https://localhost:8080/"
        },
        "id": "pvcNONsNOl1L",
        "outputId": "fef82555-465f-4436-cdc9-8b537c2038eb"
      },
      "execution_count": null,
      "outputs": [
        {
          "output_type": "stream",
          "name": "stdout",
          "text": [
            "The file does not exist\n"
          ]
        }
      ]
    }
  ]
}